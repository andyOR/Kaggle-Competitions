{
 "cells": [
  {
   "cell_type": "code",
   "execution_count": 1,
   "metadata": {},
   "outputs": [
    {
     "name": "stdout",
     "output_type": "stream",
     "text": [
      "C:\\2017\\Work\\Python\\Kaggle\\RRVF\n"
     ]
    }
   ],
   "source": [
    "cd C:\\2017\\Work\\Python\\Kaggle\\RRVF"
   ]
  },
  {
   "cell_type": "code",
   "execution_count": 22,
   "metadata": {},
   "outputs": [
    {
     "data": {
      "text/html": [
       "<div>\n",
       "<style>\n",
       "    .dataframe thead tr:only-child th {\n",
       "        text-align: right;\n",
       "    }\n",
       "\n",
       "    .dataframe thead th {\n",
       "        text-align: left;\n",
       "    }\n",
       "\n",
       "    .dataframe tbody tr th {\n",
       "        vertical-align: top;\n",
       "    }\n",
       "</style>\n",
       "<table border=\"1\" class=\"dataframe\">\n",
       "  <thead>\n",
       "    <tr style=\"text-align: right;\">\n",
       "      <th></th>\n",
       "      <th>air_store_id</th>\n",
       "      <th>visit_date</th>\n",
       "      <th>visitors</th>\n",
       "      <th>visit_date_only</th>\n",
       "    </tr>\n",
       "  </thead>\n",
       "  <tbody>\n",
       "    <tr>\n",
       "      <th>0</th>\n",
       "      <td>air_ba937bf13d40fb24</td>\n",
       "      <td>2016-01-13</td>\n",
       "      <td>25</td>\n",
       "      <td>2016-01-13</td>\n",
       "    </tr>\n",
       "    <tr>\n",
       "      <th>1</th>\n",
       "      <td>air_ba937bf13d40fb24</td>\n",
       "      <td>2016-01-14</td>\n",
       "      <td>32</td>\n",
       "      <td>2016-01-14</td>\n",
       "    </tr>\n",
       "    <tr>\n",
       "      <th>2</th>\n",
       "      <td>air_ba937bf13d40fb24</td>\n",
       "      <td>2016-01-15</td>\n",
       "      <td>29</td>\n",
       "      <td>2016-01-15</td>\n",
       "    </tr>\n",
       "    <tr>\n",
       "      <th>3</th>\n",
       "      <td>air_ba937bf13d40fb24</td>\n",
       "      <td>2016-01-16</td>\n",
       "      <td>22</td>\n",
       "      <td>2016-01-16</td>\n",
       "    </tr>\n",
       "    <tr>\n",
       "      <th>4</th>\n",
       "      <td>air_ba937bf13d40fb24</td>\n",
       "      <td>2016-01-18</td>\n",
       "      <td>6</td>\n",
       "      <td>2016-01-18</td>\n",
       "    </tr>\n",
       "  </tbody>\n",
       "</table>\n",
       "</div>"
      ],
      "text/plain": [
       "           air_store_id visit_date  visitors visit_date_only\n",
       "0  air_ba937bf13d40fb24 2016-01-13        25      2016-01-13\n",
       "1  air_ba937bf13d40fb24 2016-01-14        32      2016-01-14\n",
       "2  air_ba937bf13d40fb24 2016-01-15        29      2016-01-15\n",
       "3  air_ba937bf13d40fb24 2016-01-16        22      2016-01-16\n",
       "4  air_ba937bf13d40fb24 2016-01-18         6      2016-01-18"
      ]
     },
     "execution_count": 22,
     "metadata": {},
     "output_type": "execute_result"
    }
   ],
   "source": [
    "import pandas as pd\n",
    "from datetime import datetime\n",
    "air_vis_data = pd.read_csv('air_visit_data.csv')\n",
    "air_vis_data['visit_date'] = pd.to_datetime(air_vis_data['visit_date'])\n",
    "air_vis_data[\"visit_date_only\"]= [i.date() for i in air_vis_data[\"visit_date\"]]\n",
    "air_vis_data.head()"
   ]
  },
  {
   "cell_type": "code",
   "execution_count": 9,
   "metadata": {
    "collapsed": true
   },
   "outputs": [],
   "source": [
    "air_res_data = pd.read_csv('air_reserve.csv')\n",
    "from datetime import datetime\n",
    "air_res_data['visit_datetime'] = pd.to_datetime(air_res_data['visit_datetime'])\n",
    "air_res_data['reserve_datetime'] = pd.to_datetime(air_res_data['reserve_datetime'])\n",
    "air_res_data[\"visit_date_only\"]= [i.date() for i in air_res_data[\"visit_datetime\"]]"
   ]
  },
  {
   "cell_type": "code",
   "execution_count": 28,
   "metadata": {},
   "outputs": [
    {
     "name": "stdout",
     "output_type": "stream",
     "text": [
      "<class 'pandas.core.frame.DataFrame'>\n",
      "RangeIndex: 32019 entries, 0 to 32018\n",
      "Data columns (total 2 columns):\n",
      "id          32019 non-null object\n",
      "visitors    32019 non-null int64\n",
      "dtypes: int64(1), object(1)\n",
      "memory usage: 500.4+ KB\n"
     ]
    },
    {
     "data": {
      "text/html": [
       "<div>\n",
       "<style>\n",
       "    .dataframe thead tr:only-child th {\n",
       "        text-align: right;\n",
       "    }\n",
       "\n",
       "    .dataframe thead th {\n",
       "        text-align: left;\n",
       "    }\n",
       "\n",
       "    .dataframe tbody tr th {\n",
       "        vertical-align: top;\n",
       "    }\n",
       "</style>\n",
       "<table border=\"1\" class=\"dataframe\">\n",
       "  <thead>\n",
       "    <tr style=\"text-align: right;\">\n",
       "      <th></th>\n",
       "      <th>id</th>\n",
       "      <th>visitors</th>\n",
       "    </tr>\n",
       "  </thead>\n",
       "  <tbody>\n",
       "    <tr>\n",
       "      <th>0</th>\n",
       "      <td>air_00a91d42b08b08d9_2017-04-23</td>\n",
       "      <td>0</td>\n",
       "    </tr>\n",
       "    <tr>\n",
       "      <th>1</th>\n",
       "      <td>air_00a91d42b08b08d9_2017-04-24</td>\n",
       "      <td>0</td>\n",
       "    </tr>\n",
       "    <tr>\n",
       "      <th>2</th>\n",
       "      <td>air_00a91d42b08b08d9_2017-04-25</td>\n",
       "      <td>0</td>\n",
       "    </tr>\n",
       "    <tr>\n",
       "      <th>3</th>\n",
       "      <td>air_00a91d42b08b08d9_2017-04-26</td>\n",
       "      <td>0</td>\n",
       "    </tr>\n",
       "    <tr>\n",
       "      <th>4</th>\n",
       "      <td>air_00a91d42b08b08d9_2017-04-27</td>\n",
       "      <td>0</td>\n",
       "    </tr>\n",
       "  </tbody>\n",
       "</table>\n",
       "</div>"
      ],
      "text/plain": [
       "                                id  visitors\n",
       "0  air_00a91d42b08b08d9_2017-04-23         0\n",
       "1  air_00a91d42b08b08d9_2017-04-24         0\n",
       "2  air_00a91d42b08b08d9_2017-04-25         0\n",
       "3  air_00a91d42b08b08d9_2017-04-26         0\n",
       "4  air_00a91d42b08b08d9_2017-04-27         0"
      ]
     },
     "execution_count": 28,
     "metadata": {},
     "output_type": "execute_result"
    }
   ],
   "source": [
    "test_data = pd.read_csv('sample_submission.csv')\n",
    "test_data.info()\n",
    "test_data.head()"
   ]
  },
  {
   "cell_type": "code",
   "execution_count": 26,
   "metadata": {},
   "outputs": [],
   "source": [
    "test_data['date'] = test_data['id'].apply(dates_reform)\n",
    "test_data['id'] = test_data['id'].apply(only_id)"
   ]
  },
  {
   "cell_type": "code",
   "execution_count": 29,
   "metadata": {},
   "outputs": [],
   "source": [
    "from pandas import Series\n",
    "import datetime\n",
    "def dates_reform(date):\n",
    "    date = str(date)\n",
    "    p = date[21:25]\n",
    "    q = date[26:28]\n",
    "    r = date[29:31]\n",
    "    dates = datetime.datetime(year = int(p), month = int(q), day =int(r))\n",
    "    return dates\n",
    "    return row.name"
   ]
  },
  {
   "cell_type": "code",
   "execution_count": 30,
   "metadata": {
    "collapsed": true
   },
   "outputs": [],
   "source": [
    "def only_id(id1):\n",
    "    id1 = str(id1)\n",
    "    p = id1[0:20]\n",
    "    return p"
   ]
  },
  {
   "cell_type": "markdown",
   "metadata": {},
   "source": [
    "Joining air visit data and air reserve data - train2"
   ]
  },
  {
   "cell_type": "code",
   "execution_count": 4,
   "metadata": {
    "collapsed": true
   },
   "outputs": [],
   "source": [
    "train = air_vis_data.merge(air_res_data, on=['air_store_id', 'visit_date_only'],  how='left')"
   ]
  },
  {
   "cell_type": "code",
   "execution_count": 5,
   "metadata": {},
   "outputs": [
    {
     "name": "stdout",
     "output_type": "stream",
     "text": [
      "<class 'pandas.core.frame.DataFrame'>\n",
      "Int64Index: 252108 entries, 0 to 311224\n",
      "Data columns (total 7 columns):\n",
      "air_store_id        252108 non-null object\n",
      "visit_date          252108 non-null datetime64[ns]\n",
      "visitors            252108 non-null int64\n",
      "visit_date_only     252108 non-null object\n",
      "visit_datetime      28064 non-null datetime64[ns]\n",
      "reserve_datetime    28064 non-null datetime64[ns]\n",
      "reserve_visitors    28064 non-null float64\n",
      "dtypes: datetime64[ns](3), float64(1), int64(1), object(2)\n",
      "memory usage: 15.4+ MB\n"
     ]
    }
   ],
   "source": [
    "train_air_res = train.drop_duplicates(keep=\"first\", subset = ['air_store_id', 'visit_date_only'])\n",
    "train_air_res.info()"
   ]
  },
  {
   "cell_type": "markdown",
   "metadata": {},
   "source": [
    "Joining train2 data with air store info"
   ]
  },
  {
   "cell_type": "code",
   "execution_count": 6,
   "metadata": {},
   "outputs": [
    {
     "name": "stdout",
     "output_type": "stream",
     "text": [
      "<class 'pandas.core.frame.DataFrame'>\n",
      "RangeIndex: 829 entries, 0 to 828\n",
      "Data columns (total 5 columns):\n",
      "air_store_id      829 non-null object\n",
      "air_genre_name    829 non-null object\n",
      "air_area_name     829 non-null object\n",
      "latitude          829 non-null float64\n",
      "longitude         829 non-null float64\n",
      "dtypes: float64(2), object(3)\n",
      "memory usage: 32.5+ KB\n"
     ]
    }
   ],
   "source": [
    "air_str_data = pd.read_csv('air_store_info.csv')\n",
    "air_str_data.info()"
   ]
  },
  {
   "cell_type": "code",
   "execution_count": 7,
   "metadata": {},
   "outputs": [
    {
     "name": "stdout",
     "output_type": "stream",
     "text": [
      "<class 'pandas.core.frame.DataFrame'>\n",
      "Int64Index: 252108 entries, 0 to 252107\n",
      "Data columns (total 11 columns):\n",
      "air_store_id        252108 non-null object\n",
      "visit_date          252108 non-null datetime64[ns]\n",
      "visitors            252108 non-null int64\n",
      "visit_date_only     252108 non-null object\n",
      "visit_datetime      28064 non-null datetime64[ns]\n",
      "reserve_datetime    28064 non-null datetime64[ns]\n",
      "reserve_visitors    28064 non-null float64\n",
      "air_genre_name      252108 non-null object\n",
      "air_area_name       252108 non-null object\n",
      "latitude            252108 non-null float64\n",
      "longitude           252108 non-null float64\n",
      "dtypes: datetime64[ns](3), float64(3), int64(1), object(4)\n",
      "memory usage: 23.1+ MB\n"
     ]
    }
   ],
   "source": [
    "train2 = train_air_res.merge(air_str_data, on=['air_store_id'],  how='left')\n",
    "train2.info()"
   ]
  },
  {
   "cell_type": "markdown",
   "metadata": {},
   "source": [
    "Joining hpg reserve data to hpg store data"
   ]
  },
  {
   "cell_type": "code",
   "execution_count": 8,
   "metadata": {},
   "outputs": [
    {
     "name": "stdout",
     "output_type": "stream",
     "text": [
      "<class 'pandas.core.frame.DataFrame'>\n",
      "RangeIndex: 2000320 entries, 0 to 2000319\n",
      "Data columns (total 4 columns):\n",
      "hpg_store_id        object\n",
      "visit_datetime      object\n",
      "reserve_datetime    object\n",
      "reserve_visitors    int64\n",
      "dtypes: int64(1), object(3)\n",
      "memory usage: 61.0+ MB\n"
     ]
    }
   ],
   "source": [
    "hpg_res_data= pd.read_csv('hpg_reserve.csv')\n",
    "#hpg_res_data.info()"
   ]
  },
  {
   "cell_type": "code",
   "execution_count": 9,
   "metadata": {},
   "outputs": [
    {
     "name": "stdout",
     "output_type": "stream",
     "text": [
      "<class 'pandas.core.frame.DataFrame'>\n",
      "RangeIndex: 4690 entries, 0 to 4689\n",
      "Data columns (total 5 columns):\n",
      "hpg_store_id      4690 non-null object\n",
      "hpg_genre_name    4690 non-null object\n",
      "hpg_area_name     4690 non-null object\n",
      "latitude          4690 non-null float64\n",
      "longitude         4690 non-null float64\n",
      "dtypes: float64(2), object(3)\n",
      "memory usage: 183.3+ KB\n"
     ]
    }
   ],
   "source": [
    "hpg_str_data = pd.read_csv('hpg_store_info.csv')\n",
    "hpg_str_data.info()"
   ]
  },
  {
   "cell_type": "code",
   "execution_count": 11,
   "metadata": {},
   "outputs": [
    {
     "name": "stdout",
     "output_type": "stream",
     "text": [
      "<class 'pandas.core.frame.DataFrame'>\n",
      "Int64Index: 2000320 entries, 0 to 2000319\n",
      "Data columns (total 8 columns):\n",
      "hpg_store_id        object\n",
      "visit_datetime      object\n",
      "reserve_datetime    object\n",
      "reserve_visitors    int64\n",
      "hpg_genre_name      object\n",
      "hpg_area_name       object\n",
      "latitude            float64\n",
      "longitude           float64\n",
      "dtypes: float64(2), int64(1), object(5)\n",
      "memory usage: 137.4+ MB\n"
     ]
    }
   ],
   "source": [
    "train_hpg = hpg_res_data.merge(hpg_str_data,on=['hpg_store_id'],  how='left')\n",
    "train_hpg.info()"
   ]
  },
  {
   "cell_type": "markdown",
   "metadata": {},
   "source": [
    "Joining store id and hpg store_reserve data"
   ]
  },
  {
   "cell_type": "code",
   "execution_count": 14,
   "metadata": {},
   "outputs": [
    {
     "name": "stdout",
     "output_type": "stream",
     "text": [
      "<class 'pandas.core.frame.DataFrame'>\n",
      "RangeIndex: 150 entries, 0 to 149\n",
      "Data columns (total 2 columns):\n",
      "air_store_id    150 non-null object\n",
      "hpg_store_id    150 non-null object\n",
      "dtypes: object(2)\n",
      "memory usage: 2.4+ KB\n"
     ]
    }
   ],
   "source": [
    "store_relatn = pd.read_csv('store_id_relation.csv')\n",
    "store_relatn.info()"
   ]
  },
  {
   "cell_type": "code",
   "execution_count": 16,
   "metadata": {},
   "outputs": [
    {
     "name": "stdout",
     "output_type": "stream",
     "text": [
      "<class 'pandas.core.frame.DataFrame'>\n",
      "Int64Index: 2000320 entries, 0 to 2000319\n",
      "Data columns (total 9 columns):\n",
      "hpg_store_id        object\n",
      "visit_datetime      object\n",
      "reserve_datetime    object\n",
      "reserve_visitors    int64\n",
      "hpg_genre_name      object\n",
      "hpg_area_name       object\n",
      "latitude            float64\n",
      "longitude           float64\n",
      "air_store_id        object\n",
      "dtypes: float64(2), int64(1), object(6)\n",
      "memory usage: 152.6+ MB\n"
     ]
    }
   ],
   "source": [
    "train3 = train_hpg.merge(store_relatn, on = ['hpg_store_id'], how = 'left')\n"
   ]
  },
  {
   "cell_type": "markdown",
   "metadata": {},
   "source": [
    "Joining train 2 (air visit, reseeve and store) and train 3 (hpg reserve, store, and connection air-hpg id)"
   ]
  },
  {
   "cell_type": "code",
   "execution_count": 29,
   "metadata": {
    "collapsed": true
   },
   "outputs": [],
   "source": [
    "train3.columns = ['hpg_store_id', 'hpg_visit_datetime', 'hpg_reserve_datetime',\n",
    "       'hpg_reserve_visitors', 'hpg_genre_name', 'hpg_area_name', 'hpg_latitude',\n",
    "       'hpg_longitude', 'air_store_id']"
   ]
  },
  {
   "cell_type": "code",
   "execution_count": 31,
   "metadata": {
    "collapsed": true
   },
   "outputs": [],
   "source": [
    "train3['hpg_reserve_datetime'] = pd.to_datetime(train3['hpg_reserve_datetime'])\n",
    "train3[\"visit_date_only\"]= [i.date() for i in train3['hpg_reserve_datetime']]"
   ]
  },
  {
   "cell_type": "code",
   "execution_count": 32,
   "metadata": {},
   "outputs": [
    {
     "name": "stdout",
     "output_type": "stream",
     "text": [
      "<class 'pandas.core.frame.DataFrame'>\n",
      "Int64Index: 2000320 entries, 0 to 2000319\n",
      "Data columns (total 10 columns):\n",
      "hpg_store_id            object\n",
      "hpg_visit_datetime      object\n",
      "hpg_reserve_datetime    datetime64[ns]\n",
      "hpg_reserve_visitors    int64\n",
      "hpg_genre_name          object\n",
      "hpg_area_name           object\n",
      "hpg_latitude            float64\n",
      "hpg_longitude           float64\n",
      "air_store_id            object\n",
      "visit_date_only         object\n",
      "dtypes: datetime64[ns](1), float64(2), int64(1), object(6)\n",
      "memory usage: 167.9+ MB\n"
     ]
    }
   ],
   "source": [
    "train3.info()"
   ]
  },
  {
   "cell_type": "code",
   "execution_count": 35,
   "metadata": {
    "collapsed": true
   },
   "outputs": [],
   "source": [
    "train4 = train2.merge(train3, on=['air_store_id', 'visit_date_only'],  how='left')"
   ]
  },
  {
   "cell_type": "code",
   "execution_count": 36,
   "metadata": {
    "collapsed": true
   },
   "outputs": [],
   "source": [
    "train_air_hpg = train4.drop_duplicates(keep=\"first\", subset = ['air_store_id', 'visit_date_only'])"
   ]
  },
  {
   "cell_type": "code",
   "execution_count": 37,
   "metadata": {},
   "outputs": [
    {
     "name": "stdout",
     "output_type": "stream",
     "text": [
      "<class 'pandas.core.frame.DataFrame'>\n",
      "Int64Index: 252108 entries, 0 to 258091\n",
      "Data columns (total 19 columns):\n",
      "air_store_id            252108 non-null object\n",
      "visit_date              252108 non-null datetime64[ns]\n",
      "visitors                252108 non-null int64\n",
      "visit_date_only         252108 non-null object\n",
      "visit_datetime          28064 non-null datetime64[ns]\n",
      "reserve_datetime        28064 non-null datetime64[ns]\n",
      "reserve_visitors        28064 non-null float64\n",
      "air_genre_name          252108 non-null object\n",
      "air_area_name           252108 non-null object\n",
      "latitude                252108 non-null float64\n",
      "longitude               252108 non-null float64\n",
      "hpg_store_id            13929 non-null object\n",
      "hpg_visit_datetime      13929 non-null object\n",
      "hpg_reserve_datetime    13929 non-null datetime64[ns]\n",
      "hpg_reserve_visitors    13929 non-null float64\n",
      "hpg_genre_name          6894 non-null object\n",
      "hpg_area_name           6894 non-null object\n",
      "hpg_latitude            6894 non-null float64\n",
      "hpg_longitude           6894 non-null float64\n",
      "dtypes: datetime64[ns](4), float64(6), int64(1), object(8)\n",
      "memory usage: 38.5+ MB\n"
     ]
    }
   ],
   "source": [
    "train_air_hpg.info()"
   ]
  },
  {
   "cell_type": "code",
   "execution_count": null,
   "metadata": {
    "collapsed": true
   },
   "outputs": [],
   "source": [
    "train_air_hpg"
   ]
  },
  {
   "cell_type": "code",
   "execution_count": 51,
   "metadata": {},
   "outputs": [
    {
     "name": "stdout",
     "output_type": "stream",
     "text": [
      "<class 'pandas.core.frame.DataFrame'>\n",
      "RangeIndex: 32019 entries, 0 to 32018\n",
      "Data columns (total 2 columns):\n",
      "id          32019 non-null object\n",
      "visitors    32019 non-null int64\n",
      "dtypes: int64(1), object(1)\n",
      "memory usage: 500.4+ KB\n"
     ]
    }
   ],
   "source": [
    "test_data = pd.read_csv('sample_submission.csv')\n",
    "test_data.info()"
   ]
  },
  {
   "cell_type": "code",
   "execution_count": 58,
   "metadata": {
    "collapsed": true
   },
   "outputs": [],
   "source": [
    "train_air_hpg.to_csv('train_air_hpg.csv')\n"
   ]
  },
  {
   "cell_type": "code",
   "execution_count": null,
   "metadata": {
    "collapsed": true
   },
   "outputs": [],
   "source": []
  },
  {
   "cell_type": "code",
   "execution_count": null,
   "metadata": {
    "collapsed": true
   },
   "outputs": [],
   "source": []
  }
 ],
 "metadata": {
  "kernelspec": {
   "display_name": "Python 3",
   "language": "python",
   "name": "python3"
  },
  "language_info": {
   "codemirror_mode": {
    "name": "ipython",
    "version": 3
   },
   "file_extension": ".py",
   "mimetype": "text/x-python",
   "name": "python",
   "nbconvert_exporter": "python",
   "pygments_lexer": "ipython3",
   "version": "3.6.1"
  }
 },
 "nbformat": 4,
 "nbformat_minor": 2
}
