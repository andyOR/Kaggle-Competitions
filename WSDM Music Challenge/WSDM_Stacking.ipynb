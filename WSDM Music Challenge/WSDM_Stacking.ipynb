{
 "cells": [
  {
   "cell_type": "code",
   "execution_count": 15,
   "metadata": {},
   "outputs": [
    {
     "name": "stdout",
     "output_type": "stream",
     "text": [
      "C:\\2017\\Work\\Python\\Kaggle\\WSDM\n"
     ]
    }
   ],
   "source": [
    "cd C:\\2017\\Work\\Python\\Kaggle\\WSDM"
   ]
  },
  {
   "cell_type": "code",
   "execution_count": 2,
   "metadata": {
    "collapsed": true
   },
   "outputs": [],
   "source": [
    "import pandas as pd\n",
    "\n",
    "train_tran1 = pd.read_csv(\"train_lin_rand_xgb1.csv\")\n",
    "test_tran1 = pd.read_csv(\"test_lin_rand_xgb1.csv\")"
   ]
  },
  {
   "cell_type": "code",
   "execution_count": 2,
   "metadata": {
    "collapsed": true
   },
   "outputs": [],
   "source": [
    "import pandas as pd\n",
    "train_tran_mem_user = pd.read_csv(\"train_tran_mem_user.csv\")\n",
    "test_tran_mem_user = pd.read_csv(\"test_tran_mem_user.csv\")\n",
    "\n",
    "\n",
    "train_tran1 = train_tran_mem_user.drop_duplicates(keep=\"first\", subset = [\"msno\"])# dropped duplicated column from transaction\n",
    "test_tran1 = test_tran_mem_user.drop_duplicates(keep=\"first\", subset = [\"msno\"])\n",
    "train_tran1.reset_index(inplace=False)\n",
    "test_tran1.reset_index(inplace=False)\n",
    "\n",
    "train_tran1['gender'] = train_tran1['gender'].map({'female': 2, 'male': 1})\n",
    "test_tran1['gender'] = test_tran1['gender'].map({'female': 2, 'male': 1})\n",
    "\n",
    "train_tran1 = train_tran1.fillna(0)\n",
    "test_tran1 = test_tran1.fillna(0)\n",
    "\n",
    "#train_tran1.loc[train_tran1['bd'] < 0, 'bd'] = 0\n",
    "#train_tran1.loc[train_tran1['bd'] > 80, 'bd'] = 0\n",
    "\n",
    "#test_tran1.loc[test_tran1['bd'] < 0, 'bd'] = 0\n",
    "#test_tran1.loc[test_tran1['bd'] > 80, 'bd'] = 0\n",
    "\n",
    "\n",
    "train_tran1[\"discount\"]= [int(i) for i in (train_tran1[\"plan_list_price\"] - train_tran1[\"actual_amount_paid\"])]\n",
    "train_tran1.loc[train_tran1['discount'] < 0, 'discount'] = 0\n",
    "test_tran1[\"discount\"]= [int(i) for i in (test_tran1[\"plan_list_price\"] - test_tran1[\"actual_amount_paid\"])]\n",
    "test_tran1.loc[test_tran1['discount'] < 0, 'discount'] = 0"
   ]
  },
  {
   "cell_type": "code",
   "execution_count": null,
   "metadata": {},
   "outputs": [],
   "source": [
    "#Import libraries:\n",
    "import pandas as pd\n",
    "import numpy as np\n",
    "from sklearn.ensemble import GradientBoostingClassifier  #GBM algorithm\n",
    "from sklearn import model_selection, metrics   #Additional scklearn functions\n",
    "from sklearn.grid_search import GridSearchCV   #Perforing grid search\n"
   ]
  },
  {
   "cell_type": "code",
   "execution_count": 3,
   "metadata": {
    "collapsed": true
   },
   "outputs": [],
   "source": [
    "dummy_city = pd.get_dummies(train_tran1[\"city\"], prefix=\"city\")\n",
    "train_tran1 = pd.concat([train_tran1, dummy_city], axis=1)\n",
    "\n",
    "dummy_city1 = pd.get_dummies(test_tran1[\"city\"], prefix=\"city\")\n",
    "test_tran1 = pd.concat([test_tran1, dummy_city1], axis=1)\n",
    "\n",
    "dummy_regvia = pd.get_dummies(train_tran1[\"registered_via\"], prefix=\"regv\")\n",
    "train_tran1 = pd.concat([train_tran1, dummy_regvia], axis=1)\n",
    "\n",
    "dummy_regvia1 = pd.get_dummies(test_tran1[\"registered_via\"], prefix=\"regv\")\n",
    "test_tran1 = pd.concat([test_tran1, dummy_regvia1], axis=1)"
   ]
  },
  {
   "cell_type": "code",
   "execution_count": 4,
   "metadata": {
    "collapsed": true
   },
   "outputs": [],
   "source": [
    "import numpy as np\n",
    "train_tran1['is_discount'] = train_tran1.discount.apply(lambda x: 1 if x > 0 else 0)\n",
    "test_tran1['is_discount'] = test_tran1.discount.apply(lambda x: 1 if x > 0 else 0)\n",
    "test_tran1['autorenew_&_not_cancel'] = ((test_tran1.is_auto_renew == 1) == (test_tran1.is_cancel == 0)).astype(np.int8)\n",
    "train_tran1['autorenew_&_not_cancel'] = ((train_tran1.is_auto_renew == 1) == (train_tran1.is_cancel == 0)).astype(np.int8)\n",
    "train_tran1['notAutorenew_&_cancel'] = ((train_tran1.is_auto_renew == 0) == (train_tran1.is_cancel == 1)).astype(np.int8)\n",
    "test_tran1['notAutorenew_&_cancel'] = ((test_tran1.is_auto_renew == 0) == (test_tran1.is_cancel == 1)).astype(np.int8)"
   ]
  },
  {
   "cell_type": "code",
   "execution_count": 5,
   "metadata": {
    "collapsed": true
   },
   "outputs": [],
   "source": [
    "def process_age(df,cut_points,label_names):\n",
    "    df[\"bd\"] = df[\"bd\"].fillna(-0.5)\n",
    "    df[\"bd_categories\"] = pd.cut(df[\"bd\"],cut_points,labels=label_names)\n",
    "    return df\n",
    "\n",
    "cut_points = [-4000,0,18,30,50,3000]\n",
    "label_names = [\"Missing\",\"Child\",\"Young\",\"Adult\",\"Older\"]\n",
    "\n",
    "train_tran1 = process_age(train_tran1,cut_points,label_names)\n",
    "test_tran1 = process_age(test_tran1,cut_points,label_names)\n",
    "\n",
    "dummy_bd = pd.get_dummies(train_tran1[\"bd_categories\"], prefix=\"bdc\")\n",
    "train_tran1 = pd.concat([train_tran1, dummy_bd], axis=1)\n",
    "\n",
    "dummy_bd = pd.get_dummies(test_tran1[\"bd_categories\"], prefix=\"bdc\")\n",
    "test_tran1 = pd.concat([test_tran1, dummy_bd], axis=1)"
   ]
  },
  {
   "cell_type": "code",
   "execution_count": 22,
   "metadata": {
    "collapsed": true
   },
   "outputs": [],
   "source": [
    "Membership = []\n",
    "\n",
    "for i in test_tran1[\"Membership_se_days\"]:\n",
    "    if i <= 0:\n",
    "        i=0.5\n",
    "    Membership.append(i)\n",
    "    \n",
    "test_tran1[\"Member\"] = Membership\n",
    "\n",
    "import numpy as np\n",
    "Membership = []\n",
    "for i in test_tran1[\"Member\"]:\n",
    "    try:\n",
    "        i = np.log(i)\n",
    "    except ValueError:\n",
    "        i = 0\n",
    "    Membership.append(i)\n",
    "    \n",
    "test_tran1[\"Member\"] = Membership  "
   ]
  },
  {
   "cell_type": "code",
   "execution_count": null,
   "metadata": {},
   "outputs": [],
   "source": [
    "train_tran1['transact_mem_exp_date'] = pd.to_datetime(train_tran1['transact_mem_exp_date'])\n",
    "train_tran1['transact_mem_exp_date'].head()\n",
    "train_tran1.info()"
   ]
  },
  {
   "cell_type": "code",
   "execution_count": 28,
   "metadata": {
    "collapsed": true
   },
   "outputs": [],
   "source": [
    "train1 = train_tran1[(train_tran1['transact_mem_exp_date'] < '2017-03-01')]"
   ]
  },
  {
   "cell_type": "code",
   "execution_count": 30,
   "metadata": {
    "collapsed": true
   },
   "outputs": [],
   "source": [
    "train2 = train_tran1[(train_tran1['transact_mem_exp_date'] > '2017-03-01') & (train_tran1['transact_mem_exp_date'] < '2017-04-01')]"
   ]
  },
  {
   "cell_type": "code",
   "execution_count": 23,
   "metadata": {
    "collapsed": true
   },
   "outputs": [],
   "source": [
    "predictors = ['payment_method_id', 'payment_plan_days', 'plan_list_price', 'actual_amount_paid', 'bd','gender','registration_init_time','date_count', 'num_25', 'num_50', 'num_75', 'num_985', 'num_100', 'num_unq', 'total_secs',\n",
    " 'discount', 'is_auto_renew','is_cancel','autorenew_&_not_cancel','notAutorenew_&_cancel','city_0.0', 'city_1.0', 'city_3.0', 'city_4.0', 'city_5.0', 'city_6.0', 'city_7.0', 'city_8.0', 'city_9.0', 'city_10.0',\n",
    " 'city_11.0', 'city_12.0', 'city_13.0', 'city_14.0', 'city_15.0', 'city_16.0', 'city_17.0', 'city_18.0', 'city_19.0', 'city_20.0',\n",
    " 'city_21.0', 'city_22.0', 'regv_0.0', 'regv_3.0', 'regv_4.0', 'regv_7.0', 'regv_9.0', 'regv_13.0',\"bag_sci_col\",'lin_reg_predict','xgboost_cls_predict' ,\"dec_sci_col\"]"
   ]
  },
  {
   "cell_type": "code",
   "execution_count": 7,
   "metadata": {
    "collapsed": true
   },
   "outputs": [],
   "source": [
    "predictors = ['payment_method_id', 'payment_plan_days', 'plan_list_price', 'actual_amount_paid', 'bdc_Adult','bdc_Child',\n",
    "              'bdc_Missing','bdc_Older','bdc_Young','gender','date_count', 'num_25', 'num_50', 'num_75', 'num_985', 'num_100', 'num_unq', 'total_secs',\n",
    " 'discount', 'is_discount','is_auto_renew','is_cancel','city_0.0', 'city_1.0', 'city_3.0', 'city_4.0', 'city_5.0', 'city_6.0', 'city_7.0', 'city_8.0', 'city_9.0', 'city_10.0',\n",
    " 'city_11.0', 'city_12.0', 'city_13.0', 'city_14.0', 'city_15.0', 'city_16.0', 'city_17.0', 'city_18.0', 'city_19.0', 'city_20.0',\n",
    " 'city_21.0', 'city_22.0', 'regv_0.0', 'regv_3.0', 'regv_4.0', 'regv_7.0', 'regv_9.0', 'regv_13.0']"
   ]
  },
  {
   "cell_type": "code",
   "execution_count": null,
   "metadata": {
    "collapsed": true
   },
   "outputs": [],
   "source": [
    "from sklearn.feature_selection import RFECV\n",
    "from sklearn.linear_model import LogisticRegression\n",
    "\n",
    "columns = predictors\n",
    "\n",
    "all_X = train_tran1[columns]\n",
    "all_y = train_tran1[\"is_churn\"]\n",
    "\n",
    "lr = LogisticRegression()\n",
    "selector = RFECV(lr,cv=10)\n",
    "selector.fit(all_X,all_y)\n",
    "optimized_columns = all_X.columns[selector.support_]"
   ]
  },
  {
   "cell_type": "code",
   "execution_count": null,
   "metadata": {
    "collapsed": true
   },
   "outputs": [],
   "source": [
    "test_tran1.info()"
   ]
  },
  {
   "cell_type": "code",
   "execution_count": null,
   "metadata": {
    "collapsed": true
   },
   "outputs": [],
   "source": [
    "train_tran1.info()"
   ]
  },
  {
   "cell_type": "code",
   "execution_count": 8,
   "metadata": {},
   "outputs": [
    {
     "data": {
      "image/png": "[encoded data removed]",
      "text/plain": [
       "<matplotlib.figure.Figure at 0x152b2e8a2b0>"
      ]
     },
     "metadata": {},
     "output_type": "display_data"
    }
   ],
   "source": [
    "import matplotlib.pyplot as plt\n",
    "import numpy as np\n",
    "import seaborn as sns\n",
    "\n",
    "def plot_correlation_heatmap(df):\n",
    "    corr = df.corr()\n",
    "    \n",
    "    sns.set(style=\"white\")\n",
    "    mask = np.zeros_like(corr, dtype=np.bool)\n",
    "    mask[np.triu_indices_from(mask)] = True\n",
    "\n",
    "    f, ax = plt.subplots(figsize=(11, 9))\n",
    "    cmap = sns.diverging_palette(220, 10, as_cmap=True)\n",
    "\n",
    "\n",
    "    sns.heatmap(corr, mask=mask, cmap=cmap, vmax=.3, center=0,\n",
    "            square=True, linewidths=.5, cbar_kws={\"shrink\": .5})\n",
    "    plt.show()\n",
    "\n",
    "columns = predictors\n",
    "\n",
    "plot_correlation_heatmap(train_tran1[columns])"
   ]
  },
  {
   "cell_type": "code",
   "execution_count": 8,
   "metadata": {
    "collapsed": true
   },
   "outputs": [],
   "source": [
    "import sklearn.utils\n",
    "train_random = sklearn.utils.shuffle(train_tran1)\n",
    "#print('\\n\\ntrain_random: {0}'.format(train_random))\n",
    "train_data = train_random.reset_index(drop=True)"
   ]
  },
  {
   "cell_type": "code",
   "execution_count": 8,
   "metadata": {
    "collapsed": true
   },
   "outputs": [],
   "source": [
    "train = train_data[1:600000]\n",
    "test = train_data[600001:]"
   ]
  },
  {
   "cell_type": "code",
   "execution_count": 10,
   "metadata": {
    "collapsed": true
   },
   "outputs": [],
   "source": [
    "cols = predictors\n",
    "\n",
    "train = train_data\n",
    "test = test_tran1\n",
    "\n",
    "\n",
    "\n",
    "import sys\n",
    "import gc; gc.enable()\n",
    "import collections\n",
    "import xgboost as xgb\n",
    "import pandas as pd\n",
    "import numpy as np\n",
    "import sklearn"
   ]
  },
  {
   "cell_type": "code",
   "execution_count": null,
   "metadata": {},
   "outputs": [
    {
     "name": "stdout",
     "output_type": "stream",
     "text": [
      "[0]\ttrain-logloss:0.691433\tvalid-logloss:0.691435\ttrain-log_loss:0.691433\tvalid-log_loss:0.691435\n",
      "Multiple eval metrics have been passed: 'valid-log_loss' will be used for early stopping.\n",
      "\n",
      "Will train until valid-log_loss hasn't improved in 50 rounds.\n",
      "[50]\ttrain-logloss:0.613715\tvalid-logloss:0.613807\ttrain-log_loss:0.613715\tvalid-log_loss:0.613807\n",
      "[100]\ttrain-logloss:0.549071\tvalid-logloss:0.549243\ttrain-log_loss:0.549072\tvalid-log_loss:0.549243\n",
      "[150]\ttrain-logloss:0.494509\tvalid-logloss:0.494757\ttrain-log_loss:0.494509\tvalid-log_loss:0.494757\n",
      "[200]\ttrain-logloss:0.447744\tvalid-logloss:0.44807\ttrain-log_loss:0.447744\tvalid-log_loss:0.44807\n",
      "[250]\ttrain-logloss:0.407638\tvalid-logloss:0.408038\ttrain-log_loss:0.407638\tvalid-log_loss:0.408038\n",
      "[300]\ttrain-logloss:0.37304\tvalid-logloss:0.373508\ttrain-log_loss:0.37304\tvalid-log_loss:0.373508\n",
      "[350]\ttrain-logloss:0.34305\tvalid-logloss:0.343585\ttrain-log_loss:0.34305\tvalid-log_loss:0.343585\n",
      "[400]\ttrain-logloss:0.316945\tvalid-logloss:0.317545\ttrain-log_loss:0.316945\tvalid-log_loss:0.317545\n",
      "[450]\ttrain-logloss:0.294147\tvalid-logloss:0.294807\ttrain-log_loss:0.294147\tvalid-log_loss:0.294807\n",
      "[500]\ttrain-logloss:0.274166\tvalid-logloss:0.274884\ttrain-log_loss:0.274166\tvalid-log_loss:0.274884\n",
      "[550]\ttrain-logloss:0.256616\tvalid-logloss:0.257391\ttrain-log_loss:0.256616\tvalid-log_loss:0.257391\n",
      "[600]\ttrain-logloss:0.241163\tvalid-logloss:0.241993\ttrain-log_loss:0.241163\tvalid-log_loss:0.241993\n",
      "[650]\ttrain-logloss:0.22753\tvalid-logloss:0.228413\ttrain-log_loss:0.22753\tvalid-log_loss:0.228413\n"
     ]
    }
   ],
   "source": [
    "def xgb_score(preds, dtrain):\n",
    "    labels = dtrain.get_label()\n",
    "    return 'log_loss', sklearn.metrics.log_loss(labels, preds)\n",
    "\n",
    "fold = 1\n",
    "for i in range(fold):\n",
    "    params = {\n",
    "        'eta': 0.002, #use 0.002\n",
    "        'max_depth': 7,\n",
    "        'subsample': 0.5,\n",
    "        'objective': 'binary:logistic',\n",
    "        'eval_metric': 'logloss',\n",
    "        'seed': i,\n",
    "        'silent': True\n",
    "    }\n",
    "    x1, x2, y1, y2 = sklearn.model_selection.train_test_split(train[cols], train['is_churn'], test_size=0.3, random_state=i)\n",
    "    watchlist = [(xgb.DMatrix(x1, y1), 'train'), (xgb.DMatrix(x2, y2), 'valid')]\n",
    "    model = xgb.train(params, xgb.DMatrix(x1, y1), 2000,  watchlist, feval=xgb_score, maximize=False, verbose_eval=50, early_stopping_rounds=50) #use 1500\n",
    "    if i != 0:\n",
    "        pred += model.predict(xgb.DMatrix(test[cols]), ntree_limit=model.best_ntree_limit)\n",
    "    else:\n",
    "        pred = model.predict(xgb.DMatrix(test[cols]), ntree_limit=model.best_ntree_limit)\n",
    "pred /= fold\n",
    "test_predictions5 = pred.clip(0.0000001, 0.999999)"
   ]
  },
  {
   "cell_type": "code",
   "execution_count": 12,
   "metadata": {},
   "outputs": [
    {
     "data": {
      "text/plain": [
       "0.0095062237"
      ]
     },
     "execution_count": 12,
     "metadata": {},
     "output_type": "execute_result"
    }
   ],
   "source": [
    "min(test_predictions5)"
   ]
  },
  {
   "cell_type": "code",
   "execution_count": 13,
   "metadata": {},
   "outputs": [
    {
     "data": {
      "text/plain": [
       "0.97676885"
      ]
     },
     "execution_count": 13,
     "metadata": {},
     "output_type": "execute_result"
    }
   ],
   "source": [
    "max(test_predictions5)"
   ]
  },
  {
   "cell_type": "code",
   "execution_count": 18,
   "metadata": {},
   "outputs": [
    {
     "name": "stdout",
     "output_type": "stream",
     "text": [
      "0.184437442281\n"
     ]
    }
   ],
   "source": [
    "from sklearn.metrics import mean_squared_error\n",
    "#train_mse = mean_squared_error(train_predictions, train['is_churn'])\n",
    "test_mse = mean_squared_error(test_predictions, test['is_churn'])\n",
    "import numpy as np\n",
    "#train_rmse = np.sqrt(train_mse)\n",
    "test_rmse = np.sqrt(test_mse)\n",
    "#print(train_rmse)\n",
    "print(test_rmse)"
   ]
  },
  {
   "cell_type": "code",
   "execution_count": 26,
   "metadata": {
    "collapsed": true
   },
   "outputs": [],
   "source": [
    "submission = pd.DataFrame({\n",
    "    \"is_churn\": test_predictions,\n",
    "        \"msno\": test_tran1[\"msno\"]        \n",
    "    })\n",
    "\n",
    "submission.to_csv(\"sample_submission_new87.csv\", index=False)"
   ]
  },
  {
   "cell_type": "code",
   "execution_count": 42,
   "metadata": {
    "collapsed": true
   },
   "outputs": [],
   "source": [
    "predictions = pd.DataFrame({\n",
    "    \"1\": test_predictions1,\n",
    "    \"2\": test_predictions2,\n",
    "    \"3\": test_predictions3,\n",
    "    \"4\": test_predictions4\n",
    "               \n",
    "    })\n",
    "\n",
    "predictions.to_csv(\"test_predictions.csv\", index=False)"
   ]
  },
  {
   "cell_type": "markdown",
   "metadata": {},
   "source": [
    "Linear regression model - first base model"
   ]
  },
  {
   "cell_type": "code",
   "execution_count": null,
   "metadata": {
    "collapsed": true
   },
   "outputs": [],
   "source": [
    "from sklearn.linear_model import LinearRegression\n",
    "lr = LinearRegression()\n",
    "lr.fit(train_tran1[predictors], train_tran1['is_churn'])\n",
    "from sklearn.metrics import mean_squared_error\n",
    "train_predictions1 = lr.predict(train_tran1[predictors])\n",
    "train_predictions1 = train_predictions1.clip(0.0000001, 0.999999)\n",
    "test_predictions1 = lr.predict(test_tran1[predictors])\n",
    "test_predictions1 = test_predictions1.clip(0.0000001, 0.999999)"
   ]
  },
  {
   "cell_type": "code",
   "execution_count": 63,
   "metadata": {
    "collapsed": true
   },
   "outputs": [],
   "source": [
    "train_tran1[\"log_reg_predict\"] = train_predictions\n",
    "test_tran1[\"log_reg_predict\"] = test_predictions"
   ]
  },
  {
   "cell_type": "code",
   "execution_count": 81,
   "metadata": {
    "collapsed": true
   },
   "outputs": [],
   "source": [
    "train_pred = []\n",
    "\n",
    "for i in train_tran1[\"rand_cls_predict\"]:\n",
    "    if i > 0.4:\n",
    "        i=1\n",
    "    else:\n",
    "        i=0\n",
    "    train_pred.append(i)\n",
    "    \n",
    "train_tran1[\"rand_cls_predict2\"] = train_pred\n",
    "test_pred = []\n",
    "\n",
    "for i in test_tran1[\"rand_cls_predict\"]:\n",
    "    if i > 0.4:\n",
    "        i=1\n",
    "    else:\n",
    "        i=0\n",
    "    test_pred.append(i)\n",
    "    \n",
    "test_tran1[\"rand_cls_predict2\"] = test_pred"
   ]
  },
  {
   "cell_type": "markdown",
   "metadata": {},
   "source": [
    "Random forest classifier on wsdm data - Base model 2"
   ]
  },
  {
   "cell_type": "code",
   "execution_count": 31,
   "metadata": {
    "collapsed": true
   },
   "outputs": [],
   "source": [
    "from sklearn.ensemble import RandomForestClassifier\n",
    "from sklearn.metrics import roc_auc_score\n",
    "\n",
    "clf = RandomForestClassifier(n_estimators=150, random_state=1, min_samples_leaf=2)\n",
    "\n",
    "clf.fit(train_tran1[predictors], train_tran1[\"is_churn\"])\n",
    "\n",
    "#predictions = clf.predict_proba(train_tran1[predictors])[:,1]\n",
    "predictions1 = clf.predict_proba(test_tran1[predictors])[:,1]\n",
    "#print(roc_auc_score(train_tran1[\"is_churn\"], predictions))"
   ]
  },
  {
   "cell_type": "code",
   "execution_count": 32,
   "metadata": {
    "collapsed": true
   },
   "outputs": [],
   "source": [
    "#train_tran1[\"rand_cls_predict\"] = predictions\n",
    "test_tran1[\"rand_cls_predict\"] = predictions1"
   ]
  },
  {
   "cell_type": "code",
   "execution_count": 52,
   "metadata": {},
   "outputs": [
    {
     "data": {
      "text/html": [
       "<div>\n",
       "<style>\n",
       "    .dataframe thead tr:only-child th {\n",
       "        text-align: right;\n",
       "    }\n",
       "\n",
       "    .dataframe thead th {\n",
       "        text-align: left;\n",
       "    }\n",
       "\n",
       "    .dataframe tbody tr th {\n",
       "        vertical-align: top;\n",
       "    }\n",
       "</style>\n",
       "<table border=\"1\" class=\"dataframe\">\n",
       "  <thead>\n",
       "    <tr style=\"text-align: right;\">\n",
       "      <th></th>\n",
       "      <th>log_response2</th>\n",
       "    </tr>\n",
       "    <tr>\n",
       "      <th>is_churn</th>\n",
       "      <th></th>\n",
       "    </tr>\n",
       "  </thead>\n",
       "  <tbody>\n",
       "    <tr>\n",
       "      <th>0</th>\n",
       "      <td>0.089868</td>\n",
       "    </tr>\n",
       "    <tr>\n",
       "      <th>1</th>\n",
       "      <td>0.090784</td>\n",
       "    </tr>\n",
       "  </tbody>\n",
       "</table>\n",
       "</div>"
      ],
      "text/plain": [
       "          log_response2\n",
       "is_churn               \n",
       "0              0.089868\n",
       "1              0.090784"
      ]
     },
     "execution_count": 52,
     "metadata": {},
     "output_type": "execute_result"
    }
   ],
   "source": [
    "train_tran1.pivot_table(index = \"is_churn\", values=\"log_response\")"
   ]
  },
  {
   "cell_type": "code",
   "execution_count": 28,
   "metadata": {
    "collapsed": true
   },
   "outputs": [],
   "source": [
    "train_tran1.to_csv(\"train_lin_rand_xgb1.csv\", index=False)\n",
    "test_tran1.to_csv(\"test_lin_rand_xgb1.csv\", index=False)"
   ]
  },
  {
   "cell_type": "markdown",
   "metadata": {},
   "source": [
    "Meta-Logistic regression model with base linear, random, xgboost models"
   ]
  },
  {
   "cell_type": "code",
   "execution_count": 10,
   "metadata": {
    "collapsed": true
   },
   "outputs": [],
   "source": [
    "from sklearn.linear_model import LogisticRegression\n",
    "logistic_model = LogisticRegression()\n",
    "logistic_model.fit(train[predictors], train[\"is_churn\"])\n",
    "train_predictions = logistic_model.predict_proba(train[predictors])[:,1]\n",
    "test_predictions = logistic_model.predict_proba(test[predictors])[:,1]"
   ]
  },
  {
   "cell_type": "code",
   "execution_count": 38,
   "metadata": {},
   "outputs": [
    {
     "data": {
      "image/png": "[encoded data removed]",
      "text/plain": [
       "<matplotlib.figure.Figure at 0x246a739e080>"
      ]
     },
     "metadata": {},
     "output_type": "display_data"
    }
   ],
   "source": [
    "import matplotlib.pyplot as plt\n",
    "age_pivot = train_tran1.pivot_table(index=\"bd_categories\", values=\"is_churn\")\n",
    "age_pivot.plot.bar()\n",
    "plt.show()"
   ]
  },
  {
   "cell_type": "code",
   "execution_count": 36,
   "metadata": {},
   "outputs": [
    {
     "name": "stdout",
     "output_type": "stream",
     "text": [
      "0.290590055016\n"
     ]
    }
   ],
   "source": [
    "from sklearn.metrics import log_loss\n",
    "#print(log_loss(train['is_churn'],test_predictions))\n",
    "print(log_loss(train2['is_churn'], test_predictions4))"
   ]
  },
  {
   "cell_type": "code",
   "execution_count": 25,
   "metadata": {},
   "outputs": [
    {
     "data": {
      "text/plain": [
       "(907471,)"
      ]
     },
     "execution_count": 25,
     "metadata": {},
     "output_type": "execute_result"
    }
   ],
   "source": [
    "test_predictions.shape\n"
   ]
  },
  {
   "cell_type": "code",
   "execution_count": 18,
   "metadata": {},
   "outputs": [],
   "source": [
    "test_predictionsx = pd.read_csv(\"test_predictions.csv\")\n",
    "test_predictionsx['5'] = test_predictions5"
   ]
  },
  {
   "cell_type": "code",
   "execution_count": 24,
   "metadata": {
    "collapsed": true
   },
   "outputs": [],
   "source": [
    "test_predictions = test_predictionsx.mean(axis=1)"
   ]
  },
  {
   "cell_type": "code",
   "execution_count": 14,
   "metadata": {
    "collapsed": true
   },
   "outputs": [],
   "source": [
    "import numpy as np\n",
    "import pandas as pd\n",
    "from sklearn.model_selection import train_test_split\n",
    "from sklearn.tree import DecisionTreeClassifier\n",
    "from sklearn.ensemble import RandomForestClassifier, BaggingClassifier, AdaBoostClassifier, VotingClassifier\n",
    "from sklearn.linear_model import LogisticRegression\n",
    "from sklearn.svm import SVC"
   ]
  },
  {
   "cell_type": "code",
   "execution_count": 6,
   "metadata": {
    "collapsed": true
   },
   "outputs": [],
   "source": [
    "df_x = train_tran1[predictors]\n",
    "df_y = train_tran1['is_churn']"
   ]
  },
  {
   "cell_type": "code",
   "execution_count": 7,
   "metadata": {
    "collapsed": true
   },
   "outputs": [],
   "source": [
    "x_train,x_test,y_train, y_test = train_test_split(df_x,df_y, test_size=0.3, random_state= 4)"
   ]
  },
  {
   "cell_type": "code",
   "execution_count": 8,
   "metadata": {},
   "outputs": [
    {
     "data": {
      "text/plain": [
       "DecisionTreeClassifier(class_weight=None, criterion='gini', max_depth=None,\n",
       "            max_features=None, max_leaf_nodes=None,\n",
       "            min_impurity_split=1e-07, min_samples_leaf=1,\n",
       "            min_samples_split=2, min_weight_fraction_leaf=0.0,\n",
       "            presort=False, random_state=None, splitter='best')"
      ]
     },
     "execution_count": 8,
     "metadata": {},
     "output_type": "execute_result"
    }
   ],
   "source": [
    "dt = DecisionTreeClassifier()\n",
    "dt.fit(x_train,y_train)"
   ]
  },
  {
   "cell_type": "code",
   "execution_count": 9,
   "metadata": {},
   "outputs": [
    {
     "data": {
      "text/plain": [
       "0.93348507319216723"
      ]
     },
     "execution_count": 9,
     "metadata": {},
     "output_type": "execute_result"
    }
   ],
   "source": [
    "dt.score(x_test,y_test)"
   ]
  },
  {
   "cell_type": "code",
   "execution_count": 11,
   "metadata": {
    "collapsed": true
   },
   "outputs": [],
   "source": [
    "train_tran1[\"dec_sci_col\"] = dt.predict_proba(train_tran1[predictors])[:,1]\n",
    "test_tran1[\"dec_sci_col\"] = dt.predict_proba(test_tran1[predictors])[:,1]"
   ]
  },
  {
   "cell_type": "code",
   "execution_count": 26,
   "metadata": {
    "collapsed": true
   },
   "outputs": [],
   "source": [
    "rf = RandomForestClassifier(n_estimators=200)\n",
    "#rf.fit(x_train, y_train)\n",
    "rf.fit(train[predictors], train['is_churn'])\n",
    "train_predictions = rf.predict_proba(train[predictors])[:,1]\n",
    "test_predictions = rf.predict_proba(test[predictors])[:,1]"
   ]
  },
  {
   "cell_type": "code",
   "execution_count": 11,
   "metadata": {},
   "outputs": [
    {
     "data": {
      "text/plain": [
       "0.93348164016368684"
      ]
     },
     "execution_count": 11,
     "metadata": {},
     "output_type": "execute_result"
    }
   ],
   "source": [
    "rf.score(x_test,y_test)"
   ]
  },
  {
   "cell_type": "code",
   "execution_count": 12,
   "metadata": {},
   "outputs": [
    {
     "data": {
      "text/plain": [
       "0.99636000894549137"
      ]
     },
     "execution_count": 12,
     "metadata": {},
     "output_type": "execute_result"
    }
   ],
   "source": [
    "rf.score(x_train,y_train)"
   ]
  },
  {
   "cell_type": "code",
   "execution_count": 13,
   "metadata": {
    "collapsed": true
   },
   "outputs": [],
   "source": [
    "train_tran1[\"rand_sci_col\"] = rf.predict_proba(train_tran1[predictors])[:,1]\n",
    "test_tran1[\"rand_sci_col\"] = rf.predict_proba(test_tran1[predictors])[:,1]"
   ]
  },
  {
   "cell_type": "code",
   "execution_count": 14,
   "metadata": {},
   "outputs": [
    {
     "data": {
      "text/plain": [
       "BaggingClassifier(base_estimator=DecisionTreeClassifier(class_weight=None, criterion='gini', max_depth=None,\n",
       "            max_features=None, max_leaf_nodes=None,\n",
       "            min_impurity_split=1e-07, min_samples_leaf=1,\n",
       "            min_samples_split=2, min_weight_fraction_leaf=0.0,\n",
       "            presort=False, random_state=None, splitter='best'),\n",
       "         bootstrap=True, bootstrap_features=False, max_features=1.0,\n",
       "         max_samples=0.5, n_estimators=20, n_jobs=1, oob_score=False,\n",
       "         random_state=None, verbose=0, warm_start=False)"
      ]
     },
     "execution_count": 14,
     "metadata": {},
     "output_type": "execute_result"
    }
   ],
   "source": [
    "bg = BaggingClassifier(DecisionTreeClassifier(), max_samples=0.5, max_features=1.0, n_estimators =20)\n",
    "bg.fit(x_train,y_train)"
   ]
  },
  {
   "cell_type": "code",
   "execution_count": 17,
   "metadata": {},
   "outputs": [
    {
     "data": {
      "text/plain": [
       "0.95566587020405924"
      ]
     },
     "execution_count": 17,
     "metadata": {},
     "output_type": "execute_result"
    }
   ],
   "source": [
    "bg.score(x_test, y_test)"
   ]
  },
  {
   "cell_type": "code",
   "execution_count": 15,
   "metadata": {
    "collapsed": true
   },
   "outputs": [],
   "source": [
    "train_tran1[\"bag_sci_col\"] = bg.predict_proba(train_tran1[predictors])[:,1]\n",
    "test_tran1[\"bag_sci_col\"] = bg.predict_proba(test_tran1[predictors])[:,1]"
   ]
  },
  {
   "cell_type": "code",
   "execution_count": 25,
   "metadata": {},
   "outputs": [
    {
     "data": {
      "text/plain": [
       "AdaBoostClassifier(algorithm='SAMME.R',\n",
       "          base_estimator=DecisionTreeClassifier(class_weight=None, criterion='gini', max_depth=None,\n",
       "            max_features=None, max_leaf_nodes=None,\n",
       "            min_impurity_split=1e-07, min_samples_leaf=1,\n",
       "            min_samples_split=2, min_weight_fraction_leaf=0.0,\n",
       "            presort=False, random_state=None, splitter='best'),\n",
       "          learning_rate=0.001, n_estimators=10, random_state=None)"
      ]
     },
     "execution_count": 25,
     "metadata": {},
     "output_type": "execute_result"
    }
   ],
   "source": [
    "adb = AdaBoostClassifier(DecisionTreeClassifier(), n_estimators = 10, learning_rate = 0.001)\n",
    "adb.fit(x_train,y_train)"
   ]
  },
  {
   "cell_type": "code",
   "execution_count": 26,
   "metadata": {},
   "outputs": [
    {
     "data": {
      "text/plain": [
       "0.93526681497349706"
      ]
     },
     "execution_count": 26,
     "metadata": {},
     "output_type": "execute_result"
    }
   ],
   "source": [
    "adb.score(x_test, y_test)"
   ]
  },
  {
   "cell_type": "code",
   "execution_count": 16,
   "metadata": {
    "collapsed": true
   },
   "outputs": [],
   "source": [
    "lr = LogisticRegression()\n",
    "dt = DecisionTreeClassifier()\n",
    "svm = SVC(kernel = 'poly', degree = 2)"
   ]
  },
  {
   "cell_type": "code",
   "execution_count": 9,
   "metadata": {
    "collapsed": true
   },
   "outputs": [],
   "source": [
    "evc = VotingClassifier(estimators=[('lr', lr), ('dt', dt), ('svm', svm)], voting = 'hard')"
   ]
  },
  {
   "cell_type": "code",
   "execution_count": null,
   "metadata": {
    "collapsed": true
   },
   "outputs": [],
   "source": [
    "evc.fit(x_train.iloc[1:1000], y_train[1:1000])"
   ]
  },
  {
   "cell_type": "code",
   "execution_count": 17,
   "metadata": {},
   "outputs": [
    {
     "data": {
      "text/plain": [
       "LogisticRegression(C=1.0, class_weight=None, dual=False, fit_intercept=True,\n",
       "          intercept_scaling=1, max_iter=100, multi_class='ovr', n_jobs=1,\n",
       "          penalty='l2', random_state=None, solver='liblinear', tol=0.0001,\n",
       "          verbose=0, warm_start=False)"
      ]
     },
     "execution_count": 17,
     "metadata": {},
     "output_type": "execute_result"
    }
   ],
   "source": [
    "lr.fit(x_train,y_train)"
   ]
  },
  {
   "cell_type": "code",
   "execution_count": 24,
   "metadata": {},
   "outputs": [
    {
     "data": {
      "text/plain": [
       "0.91027436763615388"
      ]
     },
     "execution_count": 24,
     "metadata": {},
     "output_type": "execute_result"
    }
   ],
   "source": [
    "lr.score(x_test, y_test)"
   ]
  },
  {
   "cell_type": "code",
   "execution_count": 25,
   "metadata": {},
   "outputs": [
    {
     "data": {
      "text/plain": [
       "0.90996539507291752"
      ]
     },
     "execution_count": 25,
     "metadata": {},
     "output_type": "execute_result"
    }
   ],
   "source": [
    "lr.score(x_train, y_train)"
   ]
  },
  {
   "cell_type": "code",
   "execution_count": 18,
   "metadata": {
    "collapsed": true
   },
   "outputs": [],
   "source": [
    "train_tran1[\"lr_sci_col\"] = lr.predict_proba(train_tran1[predictors])[:,1]\n",
    "test_tran1[\"lr_sci_col\"] = lr.predict_proba(test_tran1[predictors])[:,1]"
   ]
  },
  {
   "cell_type": "code",
   "execution_count": 26,
   "metadata": {
    "collapsed": true
   },
   "outputs": [],
   "source": [
    "test_predictions = (test_tran1[\"bag_sci_col\"] + test_tran1[\"rand_sci_col\"]+ test_tran1[\"lr_sci_col\"] + test_predictions + test_tran1[\"dec_sci_col\"])/5"
   ]
  }
 ],
 "metadata": {
  "kernelspec": {
   "display_name": "Python 3",
   "language": "python",
   "name": "python3"
  },
  "language_info": {
   "codemirror_mode": {
    "name": "ipython",
    "version": 3
   },
   "file_extension": ".py",
   "mimetype": "text/x-python",
   "name": "python",
   "nbconvert_exporter": "python",
   "pygments_lexer": "ipython3",
   "version": "3.6.1"
  }
 },
 "nbformat": 4,
 "nbformat_minor": 2
}
