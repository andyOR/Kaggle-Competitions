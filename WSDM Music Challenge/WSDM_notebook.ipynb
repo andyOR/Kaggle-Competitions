{
 "cells": [
  {
   "cell_type": "markdown",
   "metadata": {},
   "source": [
    "Seeting the kaggle directory"
   ]
  },
  {
   "cell_type": "code",
   "execution_count": 63,
   "metadata": {},
   "outputs": [
    {
     "name": "stdout",
     "output_type": "stream",
     "text": [
      "C:\\2017\\Work\\Python\\Kaggle\n"
     ]
    }
   ],
   "source": [
    "cd C:\\2017\\Work\\Python\\Kaggle"
   ]
  },
  {
   "cell_type": "code",
   "execution_count": 1,
   "metadata": {},
   "outputs": [
    {
     "data": {
      "text/plain": [
       "'C:\\\\Users\\\\anike'"
      ]
     },
     "execution_count": 1,
     "metadata": {},
     "output_type": "execute_result"
    }
   ],
   "source": [
    "pwd"
   ]
  },
  {
   "cell_type": "markdown",
   "metadata": {},
   "source": [
    "Reading the dataset and cleanin the dataset columns"
   ]
  },
  {
   "cell_type": "code",
   "execution_count": 64,
   "metadata": {
    "collapsed": true
   },
   "outputs": [],
   "source": [
    "import pandas as pd\n",
    "train_tran_mem_user = pd.read_csv(\"train_tran_mem_user.csv\")\n",
    "test_tran_mem_user = pd.read_csv(\"test_tran_mem_user.csv\")\n",
    "\n",
    "\n",
    "train_tran1 = train_tran_mem_user.drop_duplicates(keep=\"first\", subset = [\"msno\"])# dropped duplicated column from transaction\n",
    "test_tran1 = test_tran_mem_user.drop_duplicates(keep=\"first\", subset = [\"msno\"])\n",
    "train_tran1.reset_index(inplace=False)\n",
    "test_tran1.reset_index(inplace=False)\n",
    "\n",
    "train_tran1['gender'] = train_tran1['gender'].map({'female': 2, 'male': 1})\n",
    "test_tran1['gender'] = test_tran1['gender'].map({'female': 2, 'male': 1})\n",
    "\n",
    "train_tran1 = train_tran1.fillna(0)\n",
    "test_tran1 = test_tran1.fillna(0)\n",
    "\n",
    "train_tran1.loc[train_tran1['bd'] < 0, 'bd'] = 0\n",
    "train_tran1.loc[train_tran1['bd'] > 80, 'bd'] = 0\n",
    "\n",
    "test_tran1.loc[test_tran1['bd'] < 0, 'bd'] = 0\n",
    "test_tran1.loc[test_tran1['bd'] > 80, 'bd'] = 0\n",
    "\n",
    "\n",
    "train_tran1[\"discount\"]= [int(i) for i in (train_tran1[\"plan_list_price\"] - train_tran1[\"actual_amount_paid\"])]\n",
    "train_tran1.loc[train_tran1['discount'] < 0, 'discount'] = 0\n",
    "test_tran1[\"discount\"]= [int(i) for i in (test_tran1[\"plan_list_price\"] - test_tran1[\"actual_amount_paid\"])]\n",
    "test_tran1.loc[test_tran1['discount'] < 0, 'discount'] = 0"
   ]
  },
  {
   "cell_type": "code",
   "execution_count": 3,
   "metadata": {},
   "outputs": [
    {
     "name": "stderr",
     "output_type": "stream",
     "text": [
      "C:\\Users\\anike\\Anaconda3\\lib\\site-packages\\sklearn\\cross_validation.py:44: DeprecationWarning: This module was deprecated in version 0.18 in favor of the model_selection module into which all the refactored classes and functions are moved. Also note that the interface of the new CV iterators are different from that of this module. This module will be removed in 0.20.\n",
      "  \"This module will be removed in 0.20.\", DeprecationWarning)\n",
      "C:\\Users\\anike\\Anaconda3\\lib\\site-packages\\sklearn\\grid_search.py:43: DeprecationWarning: This module was deprecated in version 0.18 in favor of the model_selection module into which all the refactored classes and functions are moved. This module will be removed in 0.20.\n",
      "  DeprecationWarning)\n"
     ]
    }
   ],
   "source": [
    "#Import libraries:\n",
    "import pandas as pd\n",
    "import numpy as np\n",
    "from sklearn.ensemble import GradientBoostingClassifier  #GBM algorithm\n",
    "from sklearn import model_selection, metrics   #Additional scklearn functions\n",
    "from sklearn.grid_search import GridSearchCV   #Perforing grid search\n"
   ]
  },
  {
   "cell_type": "markdown",
   "metadata": {},
   "source": [
    "Creating dummy variables for city and registered_via"
   ]
  },
  {
   "cell_type": "code",
   "execution_count": 65,
   "metadata": {
    "collapsed": true
   },
   "outputs": [],
   "source": [
    "dummy_city = pd.get_dummies(train_tran1[\"city\"], prefix=\"city\")\n",
    "train_tran1 = pd.concat([train_tran1, dummy_city], axis=1)\n",
    "\n",
    "dummy_city1 = pd.get_dummies(test_tran1[\"city\"], prefix=\"city\")\n",
    "test_tran1 = pd.concat([test_tran1, dummy_city1], axis=1)\n",
    "\n",
    "dummy_regvia = pd.get_dummies(train_tran1[\"registered_via\"], prefix=\"regv\")\n",
    "train_tran1 = pd.concat([train_tran1, dummy_regvia], axis=1)\n",
    "\n",
    "dummy_regvia1 = pd.get_dummies(test_tran1[\"registered_via\"], prefix=\"regv\")\n",
    "test_tran1 = pd.concat([test_tran1, dummy_regvia1], axis=1)"
   ]
  },
  {
   "cell_type": "markdown",
   "metadata": {},
   "source": [
    "Creating new variables"
   ]
  },
  {
   "cell_type": "code",
   "execution_count": 4,
   "metadata": {
    "collapsed": true
   },
   "outputs": [],
   "source": [
    "train_tran1['is_discount'] = train_tran1.discount.apply(lambda x: 1 if x > 0 else 0)"
   ]
  },
  {
   "cell_type": "code",
   "execution_count": 5,
   "metadata": {
    "collapsed": true
   },
   "outputs": [],
   "source": [
    "test_tran1['is_discount'] = test_tran1.discount.apply(lambda x: 1 if x > 0 else 0)"
   ]
  },
  {
   "cell_type": "code",
   "execution_count": 8,
   "metadata": {
    "collapsed": true
   },
   "outputs": [],
   "source": [
    "test_tran1['autorenew_&_not_cancel'] = ((test_tran1.is_auto_renew == 1) == (test_tran1.is_cancel == 0)).astype(np.int8)\n",
    "train_tran1['autorenew_&_not_cancel'] = ((train_tran1.is_auto_renew == 1) == (train_tran1.is_cancel == 0)).astype(np.int8)"
   ]
  },
  {
   "cell_type": "code",
   "execution_count": 9,
   "metadata": {
    "collapsed": true
   },
   "outputs": [],
   "source": [
    "train_tran1['notAutorenew_&_cancel'] = ((train_tran1.is_auto_renew == 0) == (train_tran1.is_cancel == 1)).astype(np.int8)\n",
    "test_tran1['notAutorenew_&_cancel'] = ((test_tran1.is_auto_renew == 0) == (test_tran1.is_cancel == 1)).astype(np.int8)"
   ]
  },
  {
   "cell_type": "code",
   "execution_count": 67,
   "metadata": {
    "collapsed": true
   },
   "outputs": [],
   "source": [
    "Membership = []\n",
    "\n",
    "for i in train_tran1[\"Membership_se_days\"]:\n",
    "    if i <365:\n",
    "        i=1\n",
    "    else:\n",
    "        i=0\n",
    "    Membership.append(i)\n",
    "    \n",
    "train_tran1[\"Member\"] = Membership"
   ]
  },
  {
   "cell_type": "code",
   "execution_count": 68,
   "metadata": {
    "collapsed": true
   },
   "outputs": [],
   "source": [
    "Membership = []\n",
    "\n",
    "for i in test_tran1[\"Membership_se_days\"]:\n",
    "    if i > 365:\n",
    "        i=1\n",
    "    else:\n",
    "        i=0\n",
    "    Membership.append(i)\n",
    "    \n",
    "test_tran1[\"Member\"] = Membership"
   ]
  },
  {
   "cell_type": "markdown",
   "metadata": {},
   "source": [
    "Feature variables of the dataset"
   ]
  },
  {
   "cell_type": "code",
   "execution_count": 124,
   "metadata": {
    "collapsed": true
   },
   "outputs": [],
   "source": [
    "predictors = ['payment_method_id', 'payment_plan_days', 'plan_list_price', 'actual_amount_paid', 'bd','gender','registration_init_time','date_count', 'num_25', 'num_50', 'num_75', 'num_985', 'num_100', 'num_unq', 'total_secs',\n",
    " 'discount', 'is_auto_renew','is_cancel','city_0.0', 'city_1.0', 'city_3.0', 'city_4.0', 'city_5.0', 'city_6.0', 'city_7.0', 'city_8.0', 'city_9.0', 'city_10.0',\n",
    " 'city_11.0', 'city_12.0', 'city_13.0', 'city_14.0', 'city_15.0', 'city_16.0', 'city_17.0', 'city_18.0', 'city_19.0', 'city_20.0',\n",
    " 'city_21.0', 'city_22.0', 'regv_0.0', 'regv_3.0', 'regv_4.0', 'regv_7.0', 'regv_9.0', 'regv_13.0', 'lin_reg_predict2']\n"
   ]
  },
  {
   "cell_type": "code",
   "execution_count": null,
   "metadata": {
    "collapsed": true
   },
   "outputs": [],
   "source": [
    "predictors = ['payment_method_id', 'payment_plan_days', 'plan_list_price', 'actual_amount_paid', 'bd','gender','registration_init_time','date_count', 'num_25', 'num_50', 'num_75', 'num_985', 'num_100', 'num_unq', 'total_secs',\n",
    " 'discount', 'is_discount','is_auto_renew','is_cancel','city_0.0', 'city_1.0', 'city_3.0', 'city_4.0', 'city_5.0', 'city_6.0', 'city_7.0', 'city_8.0', 'city_9.0', 'city_10.0',\n",
    " 'city_11.0', 'city_12.0', 'city_13.0', 'city_14.0', 'city_15.0', 'city_16.0', 'city_17.0', 'city_18.0', 'city_19.0', 'city_20.0',\n",
    " 'city_21.0', 'city_22.0', 'regv_0.0', 'regv_3.0', 'regv_4.0', 'regv_7.0', 'regv_9.0', 'regv_13.0']"
   ]
  },
  {
   "cell_type": "code",
   "execution_count": null,
   "metadata": {},
   "outputs": [],
   "source": [
    "test_tran1.info()"
   ]
  },
  {
   "cell_type": "code",
   "execution_count": null,
   "metadata": {},
   "outputs": [],
   "source": [
    "train_tran1.info()"
   ]
  },
  {
   "cell_type": "code",
   "execution_count": 42,
   "metadata": {
    "collapsed": true
   },
   "outputs": [],
   "source": [
    "predictors.remove(\"registered_via\")"
   ]
  },
  {
   "cell_type": "code",
   "execution_count": 114,
   "metadata": {
    "collapsed": true
   },
   "outputs": [],
   "source": [
    "import sklearn.utils\n",
    "train_random = sklearn.utils.shuffle(train_tran1)\n",
    "#print('\\n\\ntrain_random: {0}'.format(train_random))\n",
    "train_data = train_random.reset_index(drop=True)"
   ]
  },
  {
   "cell_type": "code",
   "execution_count": 15,
   "metadata": {
    "collapsed": true
   },
   "outputs": [],
   "source": [
    "train = train_data[0:50000]"
   ]
  },
  {
   "cell_type": "code",
   "execution_count": null,
   "metadata": {},
   "outputs": [],
   "source": [
    "param_test1 = {'n_estimators':list(range(90,150,10))}\n",
    "gsearch1 = GridSearchCV(estimator = GradientBoostingClassifier(learning_rate=0.1, min_samples_split=500,min_samples_leaf=50,max_depth=8,max_features='sqrt',subsample=0.8,random_state=10), \n",
    "param_grid = param_test1, scoring='roc_auc',n_jobs=4,iid=False, cv=5)\n",
    "gsearch1.fit(train[predictors],train[\"is_churn\"])"
   ]
  },
  {
   "cell_type": "code",
   "execution_count": null,
   "metadata": {},
   "outputs": [],
   "source": [
    "gsearch1.grid_scores_, gsearch1.best_params_, gsearch1.best_score_\n"
   ]
  },
  {
   "cell_type": "code",
   "execution_count": null,
   "metadata": {
    "collapsed": true
   },
   "outputs": [],
   "source": [
    "param_test2 = {'max_depth':list(range(5,16,2)), 'min_samples_split':list(range(200,1001,200))}\n",
    "gsearch2 = GridSearchCV(estimator = GradientBoostingClassifier(learning_rate=0.1, n_estimators=100, max_features='sqrt', subsample=0.8, random_state=10), \n",
    "param_grid = param_test2, scoring='roc_auc',n_jobs=4,iid=False, cv=5)\n",
    "gsearch2.fit(train[predictors],train[\"is_churn\"])\n",
    "gsearch2.grid_scores_, gsearch2.best_params_, gsearch2.best_score_"
   ]
  },
  {
   "cell_type": "code",
   "execution_count": 115,
   "metadata": {
    "collapsed": true
   },
   "outputs": [],
   "source": [
    "train = train_data[1:600000]\n",
    "test = train_data[600001:]"
   ]
  },
  {
   "cell_type": "code",
   "execution_count": 68,
   "metadata": {},
   "outputs": [],
   "source": [
    "from sklearn.linear_model import LinearRegression\n",
    "lr = LinearRegression()\n",
    "lr.fit(train_tran1[predictors], train_tran1['is_churn'])\n",
    "from sklearn.metrics import mean_squared_error\n",
    "train_predictions1 = lr.predict(train_tran1[predictors])\n",
    "train_predictions1 = train_predictions1.clip(0.0000001, 0.999999)\n",
    "test_predictions1 = lr.predict(test_tran1[predictors])\n",
    "test_predictions1 = test_predictions1.clip(0.0000001, 0.999999)"
   ]
  },
  {
   "cell_type": "code",
   "execution_count": 70,
   "metadata": {},
   "outputs": [],
   "source": [
    "train_tran1['lin_reg_predict'] = train_predictions1\n",
    "test_tran1['lin_reg_predict'] = test_predictions1"
   ]
  },
  {
   "cell_type": "code",
   "execution_count": 69,
   "metadata": {},
   "outputs": [
    {
     "data": {
      "text/plain": [
       "970960"
      ]
     },
     "execution_count": 69,
     "metadata": {},
     "output_type": "execute_result"
    }
   ],
   "source": [
    "len(train_predictions1)"
   ]
  },
  {
   "cell_type": "code",
   "execution_count": 127,
   "metadata": {
    "collapsed": true
   },
   "outputs": [],
   "source": [
    "cols = predictors\n",
    "\n",
    "train = train_data\n",
    "test = test_tran1\n",
    "\n",
    "\n",
    "\n",
    "import sys\n",
    "import gc; gc.enable()\n",
    "import collections\n",
    "import xgboost as xgb\n",
    "import pandas as pd\n",
    "import numpy as np\n",
    "import sklearn"
   ]
  },
  {
   "cell_type": "code",
   "execution_count": 119,
   "metadata": {},
   "outputs": [
    {
     "name": "stdout",
     "output_type": "stream",
     "text": [
      "[0]\ttrain-logloss:0.69143\tvalid-logloss:0.691433\ttrain-log_loss:0.69143\tvalid-log_loss:0.691433\n",
      "Multiple eval metrics have been passed: 'valid-log_loss' will be used for early stopping.\n",
      "\n",
      "Will train until valid-log_loss hasn't improved in 50 rounds.\n",
      "[50]\ttrain-logloss:0.613548\tvalid-logloss:0.61369\ttrain-log_loss:0.613548\tvalid-log_loss:0.61369\n",
      "[100]\ttrain-logloss:0.548785\tvalid-logloss:0.549054\ttrain-log_loss:0.548785\tvalid-log_loss:0.549054\n",
      "[150]\ttrain-logloss:0.494282\tvalid-logloss:0.494666\ttrain-log_loss:0.494282\tvalid-log_loss:0.494666\n",
      "[200]\ttrain-logloss:0.44795\tvalid-logloss:0.448443\ttrain-log_loss:0.44795\tvalid-log_loss:0.448443\n",
      "[250]\ttrain-logloss:0.408254\tvalid-logloss:0.408854\ttrain-log_loss:0.408254\tvalid-log_loss:0.408854\n",
      "[300]\ttrain-logloss:0.374039\tvalid-logloss:0.37474\ttrain-log_loss:0.374039\tvalid-log_loss:0.37474\n",
      "[350]\ttrain-logloss:0.344396\tvalid-logloss:0.345195\ttrain-log_loss:0.344396\tvalid-log_loss:0.345195\n",
      "[400]\ttrain-logloss:0.318603\tvalid-logloss:0.319492\ttrain-log_loss:0.318603\tvalid-log_loss:0.319492\n",
      "[450]\ttrain-logloss:0.296101\tvalid-logloss:0.297076\ttrain-log_loss:0.296101\tvalid-log_loss:0.297076\n",
      "[500]\ttrain-logloss:0.276409\tvalid-logloss:0.277467\ttrain-log_loss:0.276409\tvalid-log_loss:0.277467\n",
      "[550]\ttrain-logloss:0.259235\tvalid-logloss:0.260368\ttrain-log_loss:0.259235\tvalid-log_loss:0.260368\n",
      "[600]\ttrain-logloss:0.244186\tvalid-logloss:0.245385\ttrain-log_loss:0.244186\tvalid-log_loss:0.245385\n",
      "[650]\ttrain-logloss:0.231001\tvalid-logloss:0.232259\ttrain-log_loss:0.231001\tvalid-log_loss:0.232259\n",
      "[700]\ttrain-logloss:0.219372\tvalid-logloss:0.220684\ttrain-log_loss:0.219372\tvalid-log_loss:0.220684\n",
      "[750]\ttrain-logloss:0.209126\tvalid-logloss:0.210492\ttrain-log_loss:0.209126\tvalid-log_loss:0.210492\n",
      "[800]\ttrain-logloss:0.200075\tvalid-logloss:0.201492\ttrain-log_loss:0.200075\tvalid-log_loss:0.201492\n",
      "[850]\ttrain-logloss:0.192073\tvalid-logloss:0.193539\ttrain-log_loss:0.192073\tvalid-log_loss:0.193539\n",
      "[900]\ttrain-logloss:0.184995\tvalid-logloss:0.186508\ttrain-log_loss:0.184995\tvalid-log_loss:0.186508\n",
      "[950]\ttrain-logloss:0.178721\tvalid-logloss:0.180282\ttrain-log_loss:0.178721\tvalid-log_loss:0.180282\n",
      "[1000]\ttrain-logloss:0.173129\tvalid-logloss:0.174736\ttrain-log_loss:0.173129\tvalid-log_loss:0.174736\n",
      "[1050]\ttrain-logloss:0.167921\tvalid-logloss:0.169573\ttrain-log_loss:0.167921\tvalid-log_loss:0.169573\n",
      "[1100]\ttrain-logloss:0.163222\tvalid-logloss:0.164917\ttrain-log_loss:0.163222\tvalid-log_loss:0.164917\n",
      "[1150]\ttrain-logloss:0.15897\tvalid-logloss:0.160706\ttrain-log_loss:0.15897\tvalid-log_loss:0.160706\n",
      "[1200]\ttrain-logloss:0.15517\tvalid-logloss:0.156944\ttrain-log_loss:0.15517\tvalid-log_loss:0.156944\n",
      "[1250]\ttrain-logloss:0.151954\tvalid-logloss:0.153761\ttrain-log_loss:0.151954\tvalid-log_loss:0.153761\n",
      "[1300]\ttrain-logloss:0.149132\tvalid-logloss:0.15097\ttrain-log_loss:0.149132\tvalid-log_loss:0.15097\n",
      "[1350]\ttrain-logloss:0.146589\tvalid-logloss:0.148456\ttrain-log_loss:0.146589\tvalid-log_loss:0.148456\n",
      "[1400]\ttrain-logloss:0.144241\tvalid-logloss:0.146127\ttrain-log_loss:0.144241\tvalid-log_loss:0.146127\n",
      "[1450]\ttrain-logloss:0.142116\tvalid-logloss:0.144021\ttrain-log_loss:0.142116\tvalid-log_loss:0.144021\n",
      "[1500]\ttrain-logloss:0.140205\tvalid-logloss:0.142128\ttrain-log_loss:0.140205\tvalid-log_loss:0.142128\n",
      "[1550]\ttrain-logloss:0.13851\tvalid-logloss:0.140451\ttrain-log_loss:0.13851\tvalid-log_loss:0.140451\n",
      "[1600]\ttrain-logloss:0.136946\tvalid-logloss:0.138901\ttrain-log_loss:0.136946\tvalid-log_loss:0.138901\n",
      "[1650]\ttrain-logloss:0.135572\tvalid-logloss:0.137544\ttrain-log_loss:0.135572\tvalid-log_loss:0.137544\n",
      "[1700]\ttrain-logloss:0.13435\tvalid-logloss:0.136339\ttrain-log_loss:0.13435\tvalid-log_loss:0.136339\n",
      "[1750]\ttrain-logloss:0.133239\tvalid-logloss:0.135246\ttrain-log_loss:0.133239\tvalid-log_loss:0.135246\n",
      "[1800]\ttrain-logloss:0.132252\tvalid-logloss:0.134275\ttrain-log_loss:0.132252\tvalid-log_loss:0.134275\n",
      "[1850]\ttrain-logloss:0.131364\tvalid-logloss:0.133407\ttrain-log_loss:0.131364\tvalid-log_loss:0.133407\n",
      "[1900]\ttrain-logloss:0.130575\tvalid-logloss:0.132638\ttrain-log_loss:0.130575\tvalid-log_loss:0.132638\n",
      "[1950]\ttrain-logloss:0.129854\tvalid-logloss:0.131937\ttrain-log_loss:0.129854\tvalid-log_loss:0.131937\n",
      "[1999]\ttrain-logloss:0.129223\tvalid-logloss:0.131329\ttrain-log_loss:0.129223\tvalid-log_loss:0.131329\n"
     ]
    }
   ],
   "source": [
    "def xgb_score(preds, dtrain):\n",
    "    labels = dtrain.get_label()\n",
    "    return 'log_loss', sklearn.metrics.log_loss(labels, preds)\n",
    "\n",
    "fold = 1\n",
    "for i in range(fold):\n",
    "    params = {\n",
    "        'eta': 0.002, #use 0.002\n",
    "        'max_depth': 5,\n",
    "        'subsample': 0.5,\n",
    "        'objective': 'binary:logistic',\n",
    "        'eval_metric': 'logloss',\n",
    "        'seed': i,\n",
    "        'silent': True\n",
    "    }\n",
    "    x1, x2, y1, y2 = sklearn.model_selection.train_test_split(train[cols], train['is_churn'], test_size=0.3, random_state=i)\n",
    "    watchlist = [(xgb.DMatrix(x1, y1), 'train'), (xgb.DMatrix(x2, y2), 'valid')]\n",
    "    model = xgb.train(params, xgb.DMatrix(x1, y1), 2000,  watchlist, feval=xgb_score, maximize=False, verbose_eval=50, early_stopping_rounds=50) #use 1500\n",
    "    if i != 0:\n",
    "        pred += model.predict(xgb.DMatrix(test[cols]), ntree_limit=model.best_ntree_limit)\n",
    "    else:\n",
    "        pred = model.predict(xgb.DMatrix(test[cols]), ntree_limit=model.best_ntree_limit)\n",
    "pred /= fold\n",
    "test_predictions = pred.clip(0.0000001, 0.999999)\n"
   ]
  },
  {
   "cell_type": "code",
   "execution_count": 129,
   "metadata": {},
   "outputs": [
    {
     "data": {
      "text/plain": [
       "0.0094632711"
      ]
     },
     "execution_count": 129,
     "metadata": {},
     "output_type": "execute_result"
    }
   ],
   "source": [
    "min(test_predictions)"
   ]
  },
  {
   "cell_type": "code",
   "execution_count": 130,
   "metadata": {},
   "outputs": [
    {
     "data": {
      "text/plain": [
       "0.97430509"
      ]
     },
     "execution_count": 130,
     "metadata": {},
     "output_type": "execute_result"
    }
   ],
   "source": [
    "max(test_predictions)"
   ]
  },
  {
   "cell_type": "code",
   "execution_count": 123,
   "metadata": {},
   "outputs": [
    {
     "name": "stdout",
     "output_type": "stream",
     "text": [
      "0.185000475216\n"
     ]
    }
   ],
   "source": [
    "from sklearn.metrics import mean_squared_error\n",
    "test_mse = mean_squared_error(test_predictions, test['is_churn'])\n",
    "import numpy as np\n",
    "#train_rmse = np.sqrt(train_mse)\n",
    "test_rmse = np.sqrt(test_mse)\n",
    "#print(train_rmse)\n",
    "print(test_rmse)"
   ]
  },
  {
   "cell_type": "markdown",
   "metadata": {},
   "source": [
    "Submission 61 used linear regression model with predictions as feature\n",
    "Submission 62 used linear regression model with predictions greater than 0.2 as 1 else 0 as feature in training"
   ]
  },
  {
   "cell_type": "code",
   "execution_count": 131,
   "metadata": {
    "collapsed": true
   },
   "outputs": [],
   "source": [
    "submission = pd.DataFrame({\n",
    "    \"is_churn\": test_predictions,\n",
    "        \"msno\": test_tran1[\"msno\"]        \n",
    "    })\n",
    "\n",
    "submission.to_csv(\"sample_submission_new62.csv\", index=False)"
   ]
  },
  {
   "cell_type": "code",
   "execution_count": 128,
   "metadata": {},
   "outputs": [
    {
     "name": "stdout",
     "output_type": "stream",
     "text": [
      "[0]\ttrain-logloss:0.691431\tvalid-logloss:0.69143\ttrain-log_loss:0.691431\tvalid-log_loss:0.69143\n",
      "Multiple eval metrics have been passed: 'valid-log_loss' will be used for early stopping.\n",
      "\n",
      "Will train until valid-log_loss hasn't improved in 50 rounds.\n",
      "[50]\ttrain-logloss:0.613578\tvalid-logloss:0.61353\ttrain-log_loss:0.613578\tvalid-log_loss:0.61353\n",
      "[100]\ttrain-logloss:0.548853\tvalid-logloss:0.54876\ttrain-log_loss:0.548853\tvalid-log_loss:0.54876\n",
      "[150]\ttrain-logloss:0.494363\tvalid-logloss:0.494231\ttrain-log_loss:0.494363\tvalid-log_loss:0.494231\n",
      "[200]\ttrain-logloss:0.448057\tvalid-logloss:0.447887\ttrain-log_loss:0.448057\tvalid-log_loss:0.447887\n",
      "[250]\ttrain-logloss:0.408393\tvalid-logloss:0.408188\ttrain-log_loss:0.408393\tvalid-log_loss:0.408188\n",
      "[300]\ttrain-logloss:0.374189\tvalid-logloss:0.373954\ttrain-log_loss:0.374189\tvalid-log_loss:0.373954\n",
      "[350]\ttrain-logloss:0.344551\tvalid-logloss:0.344287\ttrain-log_loss:0.344551\tvalid-log_loss:0.344287\n",
      "[400]\ttrain-logloss:0.318786\tvalid-logloss:0.318495\ttrain-log_loss:0.318786\tvalid-log_loss:0.318495\n",
      "[450]\ttrain-logloss:0.296302\tvalid-logloss:0.295988\ttrain-log_loss:0.296302\tvalid-log_loss:0.295988\n",
      "[500]\ttrain-logloss:0.276631\tvalid-logloss:0.27629\ttrain-log_loss:0.276631\tvalid-log_loss:0.27629\n",
      "[550]\ttrain-logloss:0.259444\tvalid-logloss:0.259075\ttrain-log_loss:0.259444\tvalid-log_loss:0.259075\n",
      "[600]\ttrain-logloss:0.244411\tvalid-logloss:0.244013\ttrain-log_loss:0.244411\tvalid-log_loss:0.244013\n",
      "[650]\ttrain-logloss:0.231229\tvalid-logloss:0.2308\ttrain-log_loss:0.231229\tvalid-log_loss:0.2308\n",
      "[700]\ttrain-logloss:0.21963\tvalid-logloss:0.219173\ttrain-log_loss:0.21963\tvalid-log_loss:0.219173\n",
      "[750]\ttrain-logloss:0.209405\tvalid-logloss:0.208922\ttrain-log_loss:0.209405\tvalid-log_loss:0.208922\n",
      "[800]\ttrain-logloss:0.200383\tvalid-logloss:0.199875\ttrain-log_loss:0.200383\tvalid-log_loss:0.199875\n",
      "[850]\ttrain-logloss:0.192409\tvalid-logloss:0.191878\ttrain-log_loss:0.192409\tvalid-log_loss:0.191878\n",
      "[900]\ttrain-logloss:0.185352\tvalid-logloss:0.184797\ttrain-log_loss:0.185352\tvalid-log_loss:0.184797\n",
      "[950]\ttrain-logloss:0.179103\tvalid-logloss:0.17853\ttrain-log_loss:0.179103\tvalid-log_loss:0.178529\n",
      "[1000]\ttrain-logloss:0.173462\tvalid-logloss:0.172877\ttrain-log_loss:0.173462\tvalid-log_loss:0.172877\n",
      "[1050]\ttrain-logloss:0.168161\tvalid-logloss:0.167574\ttrain-log_loss:0.168161\tvalid-log_loss:0.167574\n",
      "[1100]\ttrain-logloss:0.163287\tvalid-logloss:0.162703\ttrain-log_loss:0.163287\tvalid-log_loss:0.162703\n",
      "[1150]\ttrain-logloss:0.158994\tvalid-logloss:0.15841\ttrain-log_loss:0.158994\tvalid-log_loss:0.15841\n",
      "[1200]\ttrain-logloss:0.15517\tvalid-logloss:0.154589\ttrain-log_loss:0.15517\tvalid-log_loss:0.154589\n",
      "[1250]\ttrain-logloss:0.151872\tvalid-logloss:0.15129\ttrain-log_loss:0.151872\tvalid-log_loss:0.15129\n",
      "[1300]\ttrain-logloss:0.149075\tvalid-logloss:0.148491\ttrain-log_loss:0.149075\tvalid-log_loss:0.148491\n",
      "[1350]\ttrain-logloss:0.146499\tvalid-logloss:0.145917\ttrain-log_loss:0.146499\tvalid-log_loss:0.145917\n",
      "[1400]\ttrain-logloss:0.144141\tvalid-logloss:0.143566\ttrain-log_loss:0.144141\tvalid-log_loss:0.143566\n",
      "[1450]\ttrain-logloss:0.142026\tvalid-logloss:0.141458\ttrain-log_loss:0.142026\tvalid-log_loss:0.141458\n",
      "[1500]\ttrain-logloss:0.140129\tvalid-logloss:0.13957\ttrain-log_loss:0.140129\tvalid-log_loss:0.13957\n",
      "[1550]\ttrain-logloss:0.138431\tvalid-logloss:0.137883\ttrain-log_loss:0.138431\tvalid-log_loss:0.137883\n",
      "[1600]\ttrain-logloss:0.136894\tvalid-logloss:0.136358\ttrain-log_loss:0.136894\tvalid-log_loss:0.136358\n",
      "[1650]\ttrain-logloss:0.135535\tvalid-logloss:0.13501\ttrain-log_loss:0.135535\tvalid-log_loss:0.13501\n",
      "[1700]\ttrain-logloss:0.134316\tvalid-logloss:0.133803\ttrain-log_loss:0.134316\tvalid-log_loss:0.133803\n",
      "[1750]\ttrain-logloss:0.133238\tvalid-logloss:0.132732\ttrain-log_loss:0.133238\tvalid-log_loss:0.132732\n",
      "[1800]\ttrain-logloss:0.132254\tvalid-logloss:0.131759\ttrain-log_loss:0.132254\tvalid-log_loss:0.131759\n",
      "[1850]\ttrain-logloss:0.131392\tvalid-logloss:0.130905\ttrain-log_loss:0.131392\tvalid-log_loss:0.130905\n",
      "[1900]\ttrain-logloss:0.130622\tvalid-logloss:0.13014\ttrain-log_loss:0.130622\tvalid-log_loss:0.13014\n",
      "[1950]\ttrain-logloss:0.129915\tvalid-logloss:0.129439\ttrain-log_loss:0.129915\tvalid-log_loss:0.129439\n",
      "[1999]\ttrain-logloss:0.129293\tvalid-logloss:0.128825\ttrain-log_loss:0.129293\tvalid-log_loss:0.128825\n"
     ]
    }
   ],
   "source": [
    "def xgb_score(preds, dtrain):\n",
    "    labels = dtrain.get_label()\n",
    "    return 'log_loss', sklearn.metrics.log_loss(labels, preds)\n",
    "\n",
    "fold = 1\n",
    "for i in range(fold):\n",
    "    params = {\n",
    "        'eta': 0.002, #use 0.002\n",
    "        'max_depth': 5,\n",
    "        'subsample': 0.5,\n",
    "        'objective': 'binary:logistic',\n",
    "        'eval_metric': 'logloss',\n",
    "        'seed': i,\n",
    "        'silent': True\n",
    "    }\n",
    "    x1, x2, y1, y2 = sklearn.model_selection.train_test_split(train[cols], train['is_churn'], test_size=0.3, random_state=i)\n",
    "    watchlist = [(xgb.DMatrix(x1, y1), 'train'), (xgb.DMatrix(x2, y2), 'valid')]\n",
    "    model = xgb.train(params, xgb.DMatrix(x1, y1), 2000,  watchlist, feval=xgb_score, maximize=False, verbose_eval=50, early_stopping_rounds=50) #use 1500\n",
    "    if i != 0:\n",
    "        pred += model.predict(xgb.DMatrix(test[cols]), ntree_limit=model.best_ntree_limit)\n",
    "    else:\n",
    "        pred = model.predict(xgb.DMatrix(test[cols]), ntree_limit=model.best_ntree_limit)\n",
    "pred /= fold\n",
    "test_predictions = pred.clip(0.0000001, 0.999999)"
   ]
  },
  {
   "cell_type": "markdown",
   "metadata": {},
   "source": [
    "Creating new feature from lin_reg_predict for values greater than 0.2 as 1 and rest 0"
   ]
  },
  {
   "cell_type": "code",
   "execution_count": 104,
   "metadata": {},
   "outputs": [],
   "source": [
    "pred_train = []\n",
    "\n",
    "for i in train_tran1[\"lin_reg_predict\"]:\n",
    "    if i > 0.2:\n",
    "        i=1\n",
    "    else:\n",
    "        i=0\n",
    "    pred_train.append(i)\n",
    "    \n",
    "train_tran1[\"lin_reg_predict2\"] = pred_train\n",
    "pred_test = []\n",
    "\n",
    "for i in test_tran1[\"lin_reg_predict\"]:\n",
    "    if i > 0.2:\n",
    "        i=1\n",
    "    else:\n",
    "        i=0\n",
    "    pred_test.append(i)\n",
    "    \n",
    "test_tran1[\"lin_reg_predict2\"] = pred_test"
   ]
  },
  {
   "cell_type": "code",
   "execution_count": 22,
   "metadata": {
    "collapsed": true
   },
   "outputs": [],
   "source": [
    "test_pred = []\n",
    "test_pred = test_predictions1"
   ]
  },
  {
   "cell_type": "code",
   "execution_count": null,
   "metadata": {},
   "outputs": [],
   "source": [
    "train_tran1[predictors].info()"
   ]
  },
  {
   "cell_type": "code",
   "execution_count": 107,
   "metadata": {},
   "outputs": [
    {
     "data": {
      "image/png": "[encoded data removed]",
      "text/plain": [
       "<matplotlib.figure.Figure at 0x27349fc64a8>"
      ]
     },
     "metadata": {},
     "output_type": "display_data"
    }
   ],
   "source": [
    "import matplotlib.pyplot as plt\n",
    "plt.hist(test_tran1[\"lin_reg_predict\"])\n",
    "plt.show()"
   ]
  },
  {
   "cell_type": "code",
   "execution_count": 35,
   "metadata": {
    "collapsed": true
   },
   "outputs": [],
   "source": [
    "test_pred = test_pred.clip(0.0000001, 0.999999)"
   ]
  },
  {
   "cell_type": "code",
   "execution_count": 108,
   "metadata": {},
   "outputs": [
    {
     "data": {
      "text/plain": [
       "0    883630\n",
       "1     87330\n",
       "Name: is_churn, dtype: int64"
      ]
     },
     "execution_count": 108,
     "metadata": {},
     "output_type": "execute_result"
    }
   ],
   "source": [
    "train_tran1[\"is_churn\"].value_counts()"
   ]
  },
  {
   "cell_type": "code",
   "execution_count": 111,
   "metadata": {},
   "outputs": [
    {
     "data": {
      "text/html": [
       "<div>\n",
       "<style>\n",
       "    .dataframe thead tr:only-child th {\n",
       "        text-align: right;\n",
       "    }\n",
       "\n",
       "    .dataframe thead th {\n",
       "        text-align: left;\n",
       "    }\n",
       "\n",
       "    .dataframe tbody tr th {\n",
       "        vertical-align: top;\n",
       "    }\n",
       "</style>\n",
       "<table border=\"1\" class=\"dataframe\">\n",
       "  <thead>\n",
       "    <tr style=\"text-align: right;\">\n",
       "      <th></th>\n",
       "      <th>lin_reg_predict2</th>\n",
       "    </tr>\n",
       "    <tr>\n",
       "      <th>is_churn</th>\n",
       "      <th></th>\n",
       "    </tr>\n",
       "  </thead>\n",
       "  <tbody>\n",
       "    <tr>\n",
       "      <th>0</th>\n",
       "      <td>0.055390</td>\n",
       "    </tr>\n",
       "    <tr>\n",
       "      <th>1</th>\n",
       "      <td>0.633081</td>\n",
       "    </tr>\n",
       "  </tbody>\n",
       "</table>\n",
       "</div>"
      ],
      "text/plain": [
       "          lin_reg_predict2\n",
       "is_churn                  \n",
       "0                 0.055390\n",
       "1                 0.633081"
      ]
     },
     "execution_count": 111,
     "metadata": {},
     "output_type": "execute_result"
    }
   ],
   "source": [
    "d_churn = train_tran1.pivot_table(index = \"is_churn\", values=\"lin_reg_predict2\")\n",
    "d_churn"
   ]
  },
  {
   "cell_type": "code",
   "execution_count": null,
   "metadata": {
    "collapsed": true
   },
   "outputs": [],
   "source": []
  }
 ],
 "metadata": {
  "kernelspec": {
   "display_name": "Python 3",
   "language": "python",
   "name": "python3"
  },
  "language_info": {
   "codemirror_mode": {
    "name": "ipython",
    "version": 3
   },
   "file_extension": ".py",
   "mimetype": "text/x-python",
   "name": "python",
   "nbconvert_exporter": "python",
   "pygments_lexer": "ipython3",
   "version": "3.6.1"
  }
 },
 "nbformat": 4,
 "nbformat_minor": 2
}
